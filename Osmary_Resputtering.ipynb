{
 "cells": [
  {
   "cell_type": "code",
   "execution_count": null,
   "metadata": {},
   "outputs": [],
   "source": [
    "%matplotlib inline\n",
    "import os\n",
    "import numpy as np\n",
    "import matplotlib.pyplot as plt\n",
    "import copy\n",
    "import scipy as sp\n",
    "import math\n",
    "import random\n",
    "from scipy import optimize, signal\n",
    "from lmfit import Model, models\n",
    "from numpy import exp, linspace, random\n",
    "from lmfit.models import GaussianModel,ConstantModel\n",
    "from matplotlib.widgets import LassoSelector\n",
    "from matplotlib.path import Path\n",
    "from uncertainties import ufloat\n",
    "from uncertainties.umath import * , sqrt\n",
    "from scipy.optimize import curve_fit\n",
    "from mpl_toolkits.mplot3d import Axes3D\n",
    "from numpy import diff\n",
    "from mpl_toolkits.axes_grid1.inset_locator import inset_axes\n",
    "from mpl_toolkits.axes_grid1.inset_locator import mark_inset\n",
    "from matplotlib.ticker import (MultipleLocator, FormatStrFormatter,\n",
    "                               AutoMinorLocator)\n",
    "\n",
    "tiemposMaxAr = {}\n",
    "intensidadesMaxAr = {}\n",
    "maximosMaxAr = {}\n",
    "for i in range(1,41):\n",
    "    if i in [13,18,33,37,38,39]:\n",
    "        pass\n",
    "    elif i < 10:\n",
    "        tiemposMaxAr[i] = np.genfromtxt(f\"./datosdepositos/2AZ2/2AZ200{i}_Ch1.txt\", skip_header=2635, usecols=0)*1e6\n",
    "        intensidadesMaxAr[i] = abs(np.genfromtxt(f\"./datosdepositos/2AZ2/2AZ200{i}_Ch1.txt\", skip_header=2635,usecols=1))\n",
    "    else:\n",
    "        tiemposMaxAr[i] = np.genfromtxt(f\"./datosdepositos/2AZ2/2AZ20{i}_Ch1.txt\", skip_header=2635, usecols=0)*1e6\n",
    "        intensidadesMaxAr[i] = abs(np.genfromtxt(f\"./datosdepositos/2AZ2/2AZ20{i}_Ch1.txt\", skip_header=2635,usecols=1))\n",
    "        \n",
    "tiemposMaxMs = {}\n",
    "intensidadesMaxMs = {}\n",
    "maximosMaxMs = {}\n",
    "for i in range(1,40):\n",
    "    if i in [15,21,33]:\n",
    "        pass\n",
    "    elif i < 10:\n",
    "        tiemposMaxMs[i] = np.genfromtxt(f\"./datosdepositos/2AZ3/2AZ300{i}_Ch1.txt\", skip_header=2635, usecols=0)*1e6\n",
    "        intensidadesMaxMs[i] = abs(np.genfromtxt(f\"./datosdepositos/2AZ3/2AZ300{i}_Ch1.txt\", skip_header=2635,usecols=1))\n",
    "    else:\n",
    "        tiemposMaxMs[i] = np.genfromtxt(f\"./datosdepositos/2AZ3/2AZ30{i}_Ch1.txt\", skip_header=2635, usecols=0)*1e6\n",
    "        intensidadesMaxMs[i] = abs(np.genfromtxt(f\"./datosdepositos/2AZ3/2AZ30{i}_Ch1.txt\", skip_header=2635,usecols=1))\n",
    "        \n",
    "tiemposMaxVac = {}\n",
    "intensidadesMaxVac = {}\n",
    "maximosMaxVac = {}\n",
    "for i in range(0,32):\n",
    "    if i < 10:\n",
    "        tiemposMaxVac[i] = np.genfromtxt(f\"./txtconvertidos/310119MaxE00{i}_Ch1.txt\", skip_header=1635, usecols=0)*1e6\n",
    "        intensidadesMaxVac[i] = abs(np.genfromtxt(f\"./txtconvertidos/310119MaxE00{i}_Ch1.txt\", skip_header=1635,usecols=1))\n",
    "    else:\n",
    "        tiemposMaxVac[i] = np.genfromtxt(f\"./txtconvertidos/310119MaxE0{i}_Ch1.txt\", skip_header=1635, usecols=0)*1e6\n",
    "        intensidadesMaxVac[i] = abs(np.genfromtxt(f\"./txtconvertidos/310119MaxE0{i}_Ch1.txt\", skip_header=1635,usecols=1))    \n",
    "tiempos50Ar = {}\n",
    "intensidades50Ar = {}\n",
    "maximos50Ar = {}\n",
    "for i in range(0,40):\n",
    "    if i in [32]:\n",
    "        pass\n",
    "    elif i < 10:\n",
    "        tiempos50Ar[i] = np.genfromtxt(f\"./datosdepositos/2AZ4/2AZ400{i}_Ch1.txt\", skip_header=2635, usecols=0)*1e6\n",
    "        intensidades50Ar[i] = abs(np.genfromtxt(f\"./datosdepositos/2AZ4/2AZ400{i}_Ch1.txt\", skip_header=2635,usecols=1))\n",
    "    else:\n",
    "        tiempos50Ar[i] = np.genfromtxt(f\"./datosdepositos/2AZ4/2AZ40{i}_Ch1.txt\", skip_header=2635, usecols=0)*1e6\n",
    "        intensidades50Ar[i] = abs(np.genfromtxt(f\"./datosdepositos/2AZ4/2AZ40{i}_Ch1.txt\", skip_header=2635,usecols=1))\n",
    "        \n",
    "tiempos50Ms = {}\n",
    "intensidades50Ms = {}\n",
    "maximos50Ms = {}\n",
    "for i in range(1,34):\n",
    "    if i in [15,21]:\n",
    "        pass\n",
    "    elif i < 10:\n",
    "        tiempos50Ms[i] = np.genfromtxt(f\"./datosdepositos/2AZ5/2AZ500{i}_Ch1.txt\", skip_header=2635, usecols=0)*1e6\n",
    "        intensidades50Ms[i] = abs(np.genfromtxt(f\"./datosdepositos/2AZ5/2AZ500{i}_Ch1.txt\", skip_header=2635,usecols=1))\n",
    "    else:\n",
    "        tiempos50Ms[i] = np.genfromtxt(f\"./datosdepositos/2AZ5/2AZ50{i}_Ch1.txt\", skip_header=2635, usecols=0)*1e6\n",
    "        intensidades50Ms[i] = abs(np.genfromtxt(f\"./datosdepositos/2AZ5/2AZ50{i}_Ch1.txt\", skip_header=2635,usecols=1))   \n",
    "        \n",
    "tiempos50Vac = {}\n",
    "intensidades50Vac = {}\n",
    "maximos50Vac = {}\n",
    "for i in range(65,97):\n",
    "    if i < 10:\n",
    "        tiempos50Vac[i] = np.genfromtxt(f\"./txtconvertidos/310119MaxE00{i}_Ch1.txt\", skip_header=1635, usecols=0)*1e6\n",
    "        intensidades50Vac[i] = abs(np.genfromtxt(f\"./txtconvertidos/310119MaxE00{i}_Ch1.txt\", skip_header=1635,usecols=1))\n",
    "    else:\n",
    "        tiempos50Vac[i] = np.genfromtxt(f\"./txtconvertidos/310119MaxE0{i}_Ch1.txt\", skip_header=1635, usecols=0)*1e6\n",
    "        intensidades50Vac[i] = abs(np.genfromtxt(f\"./txtconvertidos/310119MaxE0{i}_Ch1.txt\", skip_header=1635,usecols=1))   \n",
    "tiempos150Ar = {}\n",
    "intensidades150Ar = {}\n",
    "maximos150Ar = {}\n",
    "for i in range(1,42):\n",
    "    if i in [13,18,33]:\n",
    "        pass\n",
    "    elif i < 10:\n",
    "        tiempos150Ar[i] = np.genfromtxt(f\"./datosdepositos/2AZ6/2AZ600{i}_Ch1.txt\", skip_header=2635, usecols=0)*1e6\n",
    "        intensidades150Ar[i] = abs(np.genfromtxt(f\"./datosdepositos/2AZ6/2AZ600{i}_Ch1.txt\", skip_header=2635,usecols=1))\n",
    "    else:\n",
    "        tiempos150Ar[i] = np.genfromtxt(f\"./datosdepositos/2AZ6/2AZ60{i}_Ch1.txt\", skip_header=2635, usecols=0)*1e6\n",
    "        intensidades150Ar[i] = abs(np.genfromtxt(f\"./datosdepositos/2AZ6/2AZ60{i}_Ch1.txt\", skip_header=2635,usecols=1))\n",
    "        \n",
    "tiempos150Ms = {}\n",
    "intensidades150Ms = {}\n",
    "maximos150Ms = {}\n",
    "for i in range(1,41):\n",
    "    if i in [15,21,33]:\n",
    "        pass\n",
    "    elif i < 10:\n",
    "        tiempos150Ms[i] = np.genfromtxt(f\"./datosdepositos/2AZ7/2AZ700{i}_Ch1.txt\", skip_header=2635, usecols=0)*1e6\n",
    "        intensidades150Ms[i] = abs(np.genfromtxt(f\"./datosdepositos/2AZ7/2AZ700{i}_Ch1.txt\", skip_header=2635,usecols=1))\n",
    "    else:\n",
    "        tiempos150Ms[i] = np.genfromtxt(f\"./datosdepositos/2AZ7/2AZ70{i}_Ch1.txt\", skip_header=2635, usecols=0)*1e6\n",
    "        intensidades150Ms[i] = abs(np.genfromtxt(f\"./datosdepositos/2AZ7/2AZ70{i}_Ch1.txt\", skip_header=2635,usecols=1))\n",
    "        \n",
    "tiempos150Vac = {}\n",
    "intensidades150Vac = {}\n",
    "maximos150Vac = {}\n",
    "for i in range(32,64):\n",
    "    if i < 10:\n",
    "        tiempos150Vac[i] = np.genfromtxt(f\"./txtconvertidos/310119MaxE00{i}_Ch1.txt\", skip_header=1635, usecols=0)*1e6\n",
    "        intensidades150Vac[i] = abs(np.genfromtxt(f\"./txtconvertidos/310119MaxE00{i}_Ch1.txt\", skip_header=1635,usecols=1))\n",
    "    else:\n",
    "        tiempos150Vac[i] = np.genfromtxt(f\"./txtconvertidos/310119MaxE0{i}_Ch1.txt\", skip_header=1635, usecols=0)*1e6\n",
    "        intensidades150Vac[i] = abs(np.genfromtxt(f\"./txtconvertidos/310119MaxE0{i}_Ch1.txt\", skip_header=1635,usecols=1))                  "
   ]
  },
  {
   "cell_type": "markdown",
   "metadata": {},
   "source": [
    "### 1.1) 21 J/cm$^2$, PLD+Ar\n",
    "\n",
    "Se usa la fuerte aproximación de que no ocurren colisiones del oro con el argon entre el blanco y los sustratos."
   ]
  },
  {
   "cell_type": "code",
   "execution_count": null,
   "metadata": {},
   "outputs": [],
   "source": [
    "t_picos = {}\n",
    "\n",
    "t_picos[5] = tiemposMaxAr[3][np.where(intensidadesMaxAr[3] == np.amax(intensidadesMaxAr[3]))[0][0]]\n",
    "t_picos[10] = tiempos150Ar[38][np.where(intensidades150Ar[38] == np.amax(intensidades150Ar[38]))[0][0]]\n",
    "plt.errorbar(t_picos.values(), [5,10], fmt='-o', yerr=[0.5,0.5], xerr=[0.025, 0.025])\n",
    "plt.ylabel('x   (mm)', fontsize=20)\n",
    "plt.xlabel('t  ($\\mu$s)', fontsize=20)"
   ]
  },
  {
   "cell_type": "code",
   "execution_count": 280,
   "metadata": {},
   "outputs": [
    {
     "data": {
      "text/plain": [
       "(28.91, 18.51)"
      ]
     },
     "execution_count": 280,
     "metadata": {},
     "output_type": "execute_result"
    }
   ],
   "source": [
    "vel_ion_Ar = (ufloat(10, 0.5)-ufloat(5,.5))/(ufloat(0.553, 0.025)-ufloat(0.3422,0.025))\n",
    "vel_ion_Ar_baj = 18.51 \n",
    "vel_ion_Ar_alt = 28.91\n",
    "vel_ion_Ar\n",
    "#t_golpe_Ar = ufloat(52,0.5)/vel_ion_Ar\n",
    "(23.71+5.2,23.71-5.2)"
   ]
  },
  {
   "cell_type": "code",
   "execution_count": 281,
   "metadata": {},
   "outputs": [],
   "source": [
    "mass_gold = 3.27e-25\n",
    "\n",
    "def KtoVel(K):\n",
    "    K_joules = K*(1.60218e-19)\n",
    "    return (1/1000)*sqrt((2*K_joules)/(mass_gold))\n",
    "\n",
    "def xResputtAr(t, v=vel_ion_Ar, v_sputt=ufloat(1.5,0.5)):\n",
    "    t_golpe_Ar = ufloat(52,0.5)/v\n",
    "    if t <= t_golpe_Ar:\n",
    "        pos = vel_ion_Ar*t\n",
    "    else:\n",
    "        pos = 52 - KtoVel(v_sputt)*(t-t_golpe_Ar)\n",
    "    return pos\n",
    "\n",
    "def xReboundAr(t, v=vel_ion_Ar):\n",
    "    t_golpe_Ar = ufloat(52,0.5)/v\n",
    "    if t <= t_golpe_Ar:\n",
    "        pos = v*t\n",
    "    else:\n",
    "        pos = 52 - v*(t-t_golpe_Ar)\n",
    "    return pos"
   ]
  },
  {
   "cell_type": "code",
   "execution_count": 340,
   "metadata": {},
   "outputs": [],
   "source": [
    "observed_peaks_Ar = [ufloat(0.82,0.1), ufloat(1.4,0.2), ufloat(2, 0.2), ufloat(2.8,0.25), ufloat(3.1,0.26), ufloat(3.3,0.6),ufloat(4.1, 0.8)]\n",
    "ob_val = [x.nominal_value for x in observed_peaks_Ar]\n",
    "ob_err = [x.std_dev for x in observed_peaks_Ar]\n",
    "x_v = [5,10,15,20,25,30,45]"
   ]
  },
  {
   "cell_type": "code",
   "execution_count": 334,
   "metadata": {},
   "outputs": [],
   "source": [
    "pos_sputt_Ar_uf = [xResputtAr(t) for t in tiemposMaxAr[3]*ufloat(1, 0.00019)]\n",
    "pos_sputt_Ar_val = [x.nominal_value for x in pos_sputt_Ar_uf]\n",
    "pos_sputt_Ar_err = [x.std_dev for x in pos_sputt_Ar_uf]\n",
    "\n",
    "pos_sputt_Ar_uf_baj = [xResputtAr(t,v=vel_ion_Ar_baj,v_sputt=KtoVel(1)) for t in tiemposMaxAr[3]*ufloat(1, 0.00019)]\n",
    "pos_sputt_Ar_val_baj = [x.nominal_value for x in pos_sputt_Ar_uf_baj]\n",
    "pos_sputt_Ar_err_baj = [x.std_dev for x in pos_sputt_Ar_uf_baj]\n",
    "\n",
    "pos_sputt_Ar_uf_alt = [xResputtAr(t,v=vel_ion_Ar_alt,v_sputt=KtoVel(2)) for t in tiemposMaxAr[3]*ufloat(1, 0.00019)]\n",
    "pos_sputt_Ar_val_alt = [x.nominal_value for x in pos_sputt_Ar_uf_alt]\n",
    "pos_sputt_Ar_err_alt = [x.std_dev for x in pos_sputt_Ar_uf_alt]\n",
    "\n",
    "pos_rebound_Ar_uf = [xReboundAr(t) for t in tiemposMaxAr[3]*ufloat(1, 0.00019)]\n",
    "pos_rebound_Ar_val = [x.nominal_value for x in pos_rebound_Ar_uf]\n",
    "pos_rebound_Ar_err = [x.std_dev for x in pos_rebound_Ar_uf]\n",
    "\n",
    "pos_rebound_Ar_uf_baj = [xReboundAr(t, v=vel_ion_Ar_baj) for t in tiemposMaxAr[3]*ufloat(1, 0.00019)]\n",
    "pos_rebound_Ar_val_baj = [x.nominal_value for x in pos_rebound_Ar_uf_baj]\n",
    "pos_rebound_Ar_err_baj = [x.std_dev for x in pos_rebound_Ar_uf_baj]\n",
    "\n",
    "pos_rebound_Ar_uf_alt = np.array([xReboundAr(t, v=vel_ion_Ar_alt) for t in tiemposMaxAr[3]*ufloat(1, 0.00019)])\n",
    "pos_rebound_Ar_val_alt = [x.nominal_value for x in pos_rebound_Ar_uf_alt]\n",
    "pos_rebound_Ar_err_alt = [x.std_dev for x in pos_rebound_Ar_uf_alt]"
   ]
  },
  {
   "cell_type": "code",
   "execution_count": 343,
   "metadata": {},
   "outputs": [
    {
     "data": {
      "text/plain": [
       "Text(0.5, 1.0, 'PLD + Ar, $21$ J/cm$^2$')"
      ]
     },
     "execution_count": 343,
     "metadata": {},
     "output_type": "execute_result"
    },
    {
     "data": {
      "image/png": "[encoded data removed]",
      "text/plain": [
       "<Figure size 432x288 with 1 Axes>"
      ]
     },
     "metadata": {
      "needs_background": "light"
     },
     "output_type": "display_data"
    }
   ],
   "source": [
    "alt_Ar2 = np.array(pos_sputt_Ar_val_baj[16500:])\n",
    "alt_Ar2[0:5000] = 52\n",
    "plt.plot(tiemposMaxAr[3], pos_sputt_Ar_val, color='blue', linewidth=1, label='Resputtering, K entre 1 a 2 eV')\n",
    "#plt.plot(tiemposMaxAr[3][16500:], pos_sputt_Ar_val_alt[16500:], color='black', linewidth=1, label='\"Resputtering\" con K=1.5eV')\n",
    "#plt.plot(tiemposMaxAr[3][21500:], pos_sputt_Ar_val_baj[21500:], color='blue', linewidth=2, label='\"Resputtering\" con K=1.5eV')\n",
    "plt.fill_between(tiemposMaxAr[3][16500:],pos_sputt_Ar_val_alt[16500:], alt_Ar2,color='blue', alpha=0.2)\n",
    "\n",
    "alt_Ar = np.zeros(21500)\n",
    "alt_Ar[:] = 52\n",
    "alt_Ar[0:16500] = pos_rebound_Ar_val_alt[0:16500]\n",
    "plt.plot(tiemposMaxAr[3][0:18500], pos_rebound_Ar_val[0:18500], color='lightgreen', linewidth=2, label='Trayecto de Au II y Au I rápidas')\n",
    "plt.fill_between(tiemposMaxAr[3][0:21500], alt_Ar, pos_rebound_Ar_val_baj[0:21500],color='lightgreen', alpha=0.2)\n",
    "\n",
    "alt_Ar1 = np.array(pos_rebound_Ar_val_baj[16500:])\n",
    "alt_Ar1[0:5000] = 52\n",
    "plt.plot(tiemposMaxAr[3][18500:], pos_rebound_Ar_val[18500:], color='purple', linewidth=2, label='Rebound elástico')\n",
    "plt.fill_between(tiemposMaxAr[3][16500:], pos_rebound_Ar_val_alt[16500:], alt_Ar1,color='purple', alpha=0.2)\n",
    "\n",
    "plt.errorbar(ob_val,x_v, xerr=ob_err, yerr=0.5, fmt='s', color= 'orange', ecolor='orange', label = 'Máximos de Au I Observados')\n",
    "plt.arrow(1, 35, 0.23, 5, head_width=0.1, head_length=0.5, linewidth=4, color='black')\n",
    "plt.arrow(2.9, 43, 0.23, -5,head_width=0.1, head_length=0.5, linewidth=4, color='black')\n",
    "plt.arrow(6, 45, 1, -1.5,head_width=.7, head_length=.6, linewidth=4, color='black')\n",
    "plt.legend(loc=4)\n",
    "plt.xlabel('$t$ ($\\mu$s)', fontsize=15)\n",
    "plt.ylabel('$x$ (mm)', fontsize=15)\n",
    "plt.xlim(0,10)\n",
    "plt.ylim(4.0, 60)\n",
    "plt.yticks([5,10,15,20,25,30,35,40,45,50])\n",
    "plt.axhline(52, linestyle='--', color='red', linewidth=3)\n",
    "plt.text(7,53, 'Sustratos', fontsize=15)\n",
    "plt.title('PLD + Ar, $21$ J/cm$^2$', fontsize=20)"
   ]
  },
  {
   "cell_type": "markdown",
   "metadata": {},
   "source": [
    "### 1.1) 21 J/cm$^2$, PLD+Ar+MS\n",
    "\n",
    "Se usa la fuerte aproximación de que no ocurren colisiones del oro con el argon entre el blanco y los sustratos."
   ]
  },
  {
   "cell_type": "code",
   "execution_count": null,
   "metadata": {},
   "outputs": [],
   "source": []
  }
 ],
 "metadata": {
  "kernelspec": {
   "display_name": "Python 3",
   "language": "python",
   "name": "python3"
  },
  "language_info": {
   "codemirror_mode": {
    "name": "ipython",
    "version": 3
   },
   "file_extension": ".py",
   "mimetype": "text/x-python",
   "name": "python",
   "nbconvert_exporter": "python",
   "pygments_lexer": "ipython3",
   "version": "3.7.6"
  }
 },
 "nbformat": 4,
 "nbformat_minor": 4
}
